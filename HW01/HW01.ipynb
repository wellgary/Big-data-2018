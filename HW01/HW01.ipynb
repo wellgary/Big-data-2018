{
 "cells": [
  {
   "cell_type": "markdown",
   "metadata": {},
   "source": [
    "# HW01\n",
    "## 利用jieba抓取文章關鍵字"
   ]
  },
  {
   "cell_type": "code",
   "execution_count": 74,
   "metadata": {
    "collapsed": true
   },
   "outputs": [],
   "source": [
    "import requests\n",
    "from bs4 import BeautifulSoup\n",
    "import jieba\n",
    "import jieba.analyse"
   ]
  },
  {
   "cell_type": "code",
   "execution_count": 75,
   "metadata": {
    "collapsed": true
   },
   "outputs": [],
   "source": [
    "url = \"https://news.cnyes.com/news/id/4065002\""
   ]
  },
  {
   "cell_type": "code",
   "execution_count": 76,
   "metadata": {},
   "outputs": [],
   "source": [
    "r = requests.get(url)"
   ]
  },
  {
   "cell_type": "code",
   "execution_count": 77,
   "metadata": {},
   "outputs": [],
   "source": [
    "r.encoding = \"UTF-8\""
   ]
  },
  {
   "cell_type": "code",
   "execution_count": 78,
   "metadata": {},
   "outputs": [
    {
     "name": "stderr",
     "output_type": "stream",
     "text": [
      "C:\\Users\\TheOne\\Anaconda3\\lib\\site-packages\\bs4\\__init__.py:181: UserWarning: No parser was explicitly specified, so I'm using the best available HTML parser for this system (\"lxml\"). This usually isn't a problem, but if you run this code on another system, or in a different virtual environment, it may use a different parser and behave differently.\n",
      "\n",
      "The code that caused this warning is on line 193 of the file C:\\Users\\TheOne\\Anaconda3\\lib\\runpy.py. To get rid of this warning, change code that looks like this:\n",
      "\n",
      " BeautifulSoup(YOUR_MARKUP})\n",
      "\n",
      "to this:\n",
      "\n",
      " BeautifulSoup(YOUR_MARKUP, \"lxml\")\n",
      "\n",
      "  markup_type=markup_type))\n"
     ]
    }
   ],
   "source": [
    "soup = BeautifulSoup(r.text)"
   ]
  },
  {
   "cell_type": "code",
   "execution_count": 79,
   "metadata": {},
   "outputs": [],
   "source": [
    "news_text = soup.find_all(\"div\",itemprop=\"articleBody\")[0].text"
   ]
  },
  {
   "cell_type": "code",
   "execution_count": 80,
   "metadata": {},
   "outputs": [
    {
     "data": {
      "text/plain": [
       "'日前美國總統川普以「國家安全」為由，阻擋博通併購高通；週三 (14 日) 博通發布正式聲明，稱將放棄收購高通。\\n根據 CNBC 報導，在這份聲明中，博通表示，儘管對結果感到失望，「我們還是會遵守行政命令」。\\n聲明也提到，博通會按照原定計畫，把總部從新加坡遷回美國，並於 3 月 23 日召開股東會。\\n白宮週一發出的「禁令」聲明指出，有「可靠證據」顯示，博通併購高通，會威脅到美國的國家安全。\\n美國外資投資委員會 (CFIUS) 於 3 月 5 日發函博通和高通的代表律師，表達對此交易的擔憂。\\nCFIUS 舉出一些疑慮，包括研發支出恐被刪減，阻礙高通發展；博通也可能與「第三方外國實體」協議，導致美企資產受到傷害。\\n儘管 CFIUS 示意擔憂，但博通先前一直樂觀認為，將其總部自新加坡遷至美國後，可挽救此交易。\\n博通股價週二收跌 0.62%，高通收跌 4.95%。\\n'"
      ]
     },
     "execution_count": 80,
     "metadata": {},
     "output_type": "execute_result"
    }
   ],
   "source": [
    "news_text"
   ]
  },
  {
   "cell_type": "code",
   "execution_count": 81,
   "metadata": {},
   "outputs": [],
   "source": [
    "news_key = jieba.analyse.extract_tags(news_text,10,False)"
   ]
  },
  {
   "cell_type": "code",
   "execution_count": 82,
   "metadata": {},
   "outputs": [
    {
     "name": "stdout",
     "output_type": "stream",
     "text": [
      "高通/ 博通/ 美國/ 聲明/ CFIUS/ 國家/ 總部/ 擔憂/ 新加坡/ 總統川\n"
     ]
    }
   ],
   "source": [
    "print(\"/ \".join(news_key))"
   ]
  }
 ],
 "metadata": {
  "kernelspec": {
   "display_name": "Python 3",
   "language": "python",
   "name": "python3"
  },
  "language_info": {
   "codemirror_mode": {
    "name": "ipython",
    "version": 3
   },
   "file_extension": ".py",
   "mimetype": "text/x-python",
   "name": "python",
   "nbconvert_exporter": "python",
   "pygments_lexer": "ipython3",
   "version": "3.6.3"
  }
 },
 "nbformat": 4,
 "nbformat_minor": 2
}
